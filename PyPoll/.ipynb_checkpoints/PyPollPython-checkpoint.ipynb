{
 "cells": [
  {
   "cell_type": "code",
   "execution_count": 5,
   "id": "b53a9c2d",
   "metadata": {},
   "outputs": [
    {
     "name": "stdout",
     "output_type": "stream",
     "text": [
      "Election Results\n",
      "------------------------\n",
      "Total Votes: 369711\n",
      "------------------------\n",
      "Charles Casper Stockham: 23.049% (85213) \n",
      "Diana DeGette: 73.812% (272892)\n",
      "Raymon Anthony Doane: 3.139% (11606)\n",
      "------------------------\n",
      "Winner: Diana DeGette\n",
      "------------------------\n",
      "\n"
     ]
    }
   ],
   "source": [
    "import os\n",
    "import csv\n",
    "\n",
    "#open connection to csv \n",
    "file_to_load = os.path.join('.', 'Resources', 'election_data.csv')\n",
    "\n",
    "file_to_output = os.path.join(\".\",\"election_analysis.txt\")\n",
    "\n",
    "num_votes = 0\n",
    "charles_votes = 0\n",
    "diana_votes = 0\n",
    "raymon_votes = 0 \n",
    "charles_pct = 0\n",
    "diana_pct = 0\n",
    "raymon_pct = 0\n",
    "\n",
    "#Put csv in a list\n",
    "with open(file_to_load) as election_data:\n",
    "    reader = csv.reader(election_data)\n",
    "    \n",
    "#remove header\n",
    "    header= next(reader)\n",
    "    \n",
    "    \n",
    "\n",
    "    for row in reader:\n",
    "        #total number of rows gives number of votes\n",
    "        num_votes += 1\n",
    "        #count votes for each person\n",
    "        if row[2] == \"Charles Casper Stockham\":\n",
    "            charles_votes += 1\n",
    "        elif row[2] == \"Diana DeGette\":\n",
    "            diana_votes += 1\n",
    "        elif row[2] == \"Raymon Anthony Doane\":\n",
    "            raymon_votes += 1\n",
    "        \n",
    "        \n",
    "        \n",
    "        #calculate percent of votes for each person\n",
    "    charles_pct = round(charles_votes / num_votes *100,3)\n",
    "    diana_pct = round(diana_votes / num_votes *100,3)\n",
    "    raymon_pct = round(raymon_votes / num_votes *100,3)\n",
    "    \n",
    "    #who is the winner - find most votes and who they belong to\n",
    "var = {charles_votes:\"Charles Casper Stockham\",diana_votes:\"Diana DeGette\",raymon_votes:\"Raymon Anthony Doane\"}\n",
    "\n",
    "output = (\n",
    "    f\"Election Results\\n\"\n",
    "    f\"------------------------\\n\"\n",
    "    f\"Total Votes: {num_votes}\\n\"\n",
    "    f\"------------------------\\n\"\n",
    "    f\"Charles Casper Stockham: {charles_pct}% ({charles_votes}) \\n\"\n",
    "    f\"Diana DeGette: {diana_pct}% ({diana_votes})\\n\"\n",
    "    f\"Raymon Anthony Doane: {raymon_pct}% ({raymon_votes})\\n\"\n",
    "    f\"------------------------\\n\"\n",
    "    f\"Winner: {var.get(max(var))}\\n\"\n",
    "    f\"------------------------\\n\"\n",
    "    )\n",
    "\n",
    "print(output)\n"
   ]
  },
  {
   "cell_type": "code",
   "execution_count": null,
   "id": "a78967b8",
   "metadata": {},
   "outputs": [],
   "source": []
  }
 ],
 "metadata": {
  "kernelspec": {
   "display_name": "Python 3 (ipykernel)",
   "language": "python",
   "name": "python3"
  },
  "language_info": {
   "codemirror_mode": {
    "name": "ipython",
    "version": 3
   },
   "file_extension": ".py",
   "mimetype": "text/x-python",
   "name": "python",
   "nbconvert_exporter": "python",
   "pygments_lexer": "ipython3",
   "version": "3.9.13"
  }
 },
 "nbformat": 4,
 "nbformat_minor": 5
}
